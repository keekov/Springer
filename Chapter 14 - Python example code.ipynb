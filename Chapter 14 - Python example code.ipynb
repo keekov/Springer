{
 "cells": [
  {
   "cell_type": "markdown",
   "metadata": {},
   "source": [
    "# Python example code - common bioinformatics scripting\n",
    "\n",
    "For Chapter 14, \"A bioinformatics primer to data science, with examples for metabolomics\".\n",
    "\n",
    "Part of Springer Nature book, \"Computational Methods and Data Analysis for Metabolomics\".\n",
    "\n",
    "Book supplemental website: https://metabolomics-data.github.io/\n",
    "\n",
    "By Shuzhao Li, 2019-07-07"
   ]
  },
  {
   "cell_type": "code",
   "execution_count": 1,
   "metadata": {},
   "outputs": [],
   "source": [
    "# Import libaries\n",
    "import os\n",
    "import numpy as np\n",
    "import pandas as pd\n",
    "\n",
    "from scipy import stats\n",
    "from statsmodels.sandbox.stats.multicomp import multipletests\n",
    "\n",
    "import seaborn as sns\n",
    "import matplotlib.pyplot as plt\n",
    "%matplotlib inline\n",
    "\n",
    "# Designate input data\n",
    "INDIR = \"input_data/\"\n",
    "datafile = \"modc_ae_2012.txt\"\n",
    "datafile_ave = \"ave_log2_modc_ae_2012.txt\""
   ]
  },
  {
   "cell_type": "markdown",
   "metadata": {},
   "source": [
    "## About the data\n",
    "\n",
    "These data are from Li et al. (2013) PLoS computational biology 9.7 (2013): e1003123, the mummichog paper. This was an experiment of infecting immune cells by yellow fever virus (YFV). Three experimental groups are baseline (0 hour), mock infection (6 hours of culture but no virus), and YFV infection (6 hours). Each group included three biological samples, and each biological sample was run as triplicates on a mass spectrometer coupled with liquid chromatography.\n",
    "\n",
    "We have two data files here, one with all technical replicates (\"modc_ae_2012.txt\"), and the other with only biological samples, after averaging the technical replicates (\"ave_log2_modc_ae_2012.txt\").\n"
   ]
  },
  {
   "cell_type": "code",
   "execution_count": 2,
   "metadata": {
    "scrolled": true
   },
   "outputs": [
    {
     "name": "stdout",
     "output_type": "stream",
     "text": [
      "(7995, 31)\n"
     ]
    },
    {
     "data": {
      "text/html": [
       "<div>\n",
       "<style scoped>\n",
       "    .dataframe tbody tr th:only-of-type {\n",
       "        vertical-align: middle;\n",
       "    }\n",
       "\n",
       "    .dataframe tbody tr th {\n",
       "        vertical-align: top;\n",
       "    }\n",
       "\n",
       "    .dataframe thead th {\n",
       "        text-align: right;\n",
       "    }\n",
       "</style>\n",
       "<table border=\"1\" class=\"dataframe\">\n",
       "  <thead>\n",
       "    <tr style=\"text-align: right;\">\n",
       "      <th></th>\n",
       "      <th>mz</th>\n",
       "      <th>time</th>\n",
       "      <th>mz.min</th>\n",
       "      <th>mz.max</th>\n",
       "      <th>p_0hr_01_1</th>\n",
       "      <th>p_0hr_01_3</th>\n",
       "      <th>p_0hr_01_5</th>\n",
       "      <th>p_0hr_02_1</th>\n",
       "      <th>p_0hr_02_3</th>\n",
       "      <th>p_0hr_02_5</th>\n",
       "      <th>...</th>\n",
       "      <th>mock_6hr_03_5</th>\n",
       "      <th>yf_6hr_01_1</th>\n",
       "      <th>yf_6hr_01_3</th>\n",
       "      <th>yf_6hr_01_5</th>\n",
       "      <th>yf_6hr_02_1</th>\n",
       "      <th>yf_6hr_02_3</th>\n",
       "      <th>yf_6hr_02_5</th>\n",
       "      <th>yf_6hr_03_1</th>\n",
       "      <th>yf_6hr_03_3</th>\n",
       "      <th>yf_6hr_03_5</th>\n",
       "    </tr>\n",
       "  </thead>\n",
       "  <tbody>\n",
       "    <tr>\n",
       "      <th>0</th>\n",
       "      <td>85.02783</td>\n",
       "      <td>59.68820</td>\n",
       "      <td>85.02783</td>\n",
       "      <td>85.02783</td>\n",
       "      <td>15.5810</td>\n",
       "      <td>16.0425</td>\n",
       "      <td>15.3953</td>\n",
       "      <td>15.4143</td>\n",
       "      <td>15.7364</td>\n",
       "      <td>15.5532</td>\n",
       "      <td>...</td>\n",
       "      <td>17.5140</td>\n",
       "      <td>17.1734</td>\n",
       "      <td>16.9813</td>\n",
       "      <td>16.6582</td>\n",
       "      <td>16.8376</td>\n",
       "      <td>16.8148</td>\n",
       "      <td>17.2885</td>\n",
       "      <td>16.5967</td>\n",
       "      <td>16.4734</td>\n",
       "      <td>16.6048</td>\n",
       "    </tr>\n",
       "    <tr>\n",
       "      <th>1</th>\n",
       "      <td>85.04717</td>\n",
       "      <td>124.75120</td>\n",
       "      <td>85.04709</td>\n",
       "      <td>85.04739</td>\n",
       "      <td>14.4754</td>\n",
       "      <td>14.2709</td>\n",
       "      <td>14.3696</td>\n",
       "      <td>14.7142</td>\n",
       "      <td>14.8291</td>\n",
       "      <td>14.9959</td>\n",
       "      <td>...</td>\n",
       "      <td>16.6485</td>\n",
       "      <td>16.6961</td>\n",
       "      <td>16.3596</td>\n",
       "      <td>17.0661</td>\n",
       "      <td>15.2321</td>\n",
       "      <td>15.1615</td>\n",
       "      <td>16.5655</td>\n",
       "      <td>16.4316</td>\n",
       "      <td>16.1668</td>\n",
       "      <td>16.2193</td>\n",
       "    </tr>\n",
       "    <tr>\n",
       "      <th>2</th>\n",
       "      <td>85.06532</td>\n",
       "      <td>68.66651</td>\n",
       "      <td>85.06517</td>\n",
       "      <td>85.06547</td>\n",
       "      <td>14.4223</td>\n",
       "      <td>15.0515</td>\n",
       "      <td>15.1241</td>\n",
       "      <td>13.5224</td>\n",
       "      <td>16.7480</td>\n",
       "      <td>14.4095</td>\n",
       "      <td>...</td>\n",
       "      <td>9.7859</td>\n",
       "      <td>14.0113</td>\n",
       "      <td>15.8681</td>\n",
       "      <td>13.3699</td>\n",
       "      <td>9.9658</td>\n",
       "      <td>15.5703</td>\n",
       "      <td>16.5537</td>\n",
       "      <td>11.9470</td>\n",
       "      <td>10.3181</td>\n",
       "      <td>10.1656</td>\n",
       "    </tr>\n",
       "    <tr>\n",
       "      <th>3</th>\n",
       "      <td>85.10073</td>\n",
       "      <td>16.48022</td>\n",
       "      <td>85.10050</td>\n",
       "      <td>85.10078</td>\n",
       "      <td>14.5249</td>\n",
       "      <td>13.2573</td>\n",
       "      <td>13.5206</td>\n",
       "      <td>12.9044</td>\n",
       "      <td>11.4185</td>\n",
       "      <td>12.9223</td>\n",
       "      <td>...</td>\n",
       "      <td>13.3513</td>\n",
       "      <td>13.2977</td>\n",
       "      <td>13.1140</td>\n",
       "      <td>12.5569</td>\n",
       "      <td>12.9582</td>\n",
       "      <td>12.9960</td>\n",
       "      <td>13.0290</td>\n",
       "      <td>12.4184</td>\n",
       "      <td>13.0218</td>\n",
       "      <td>13.4085</td>\n",
       "    </tr>\n",
       "    <tr>\n",
       "      <th>4</th>\n",
       "      <td>86.05951</td>\n",
       "      <td>67.78485</td>\n",
       "      <td>86.05949</td>\n",
       "      <td>86.05980</td>\n",
       "      <td>10.6674</td>\n",
       "      <td>17.4235</td>\n",
       "      <td>17.4510</td>\n",
       "      <td>17.0197</td>\n",
       "      <td>17.0402</td>\n",
       "      <td>16.9958</td>\n",
       "      <td>...</td>\n",
       "      <td>18.5019</td>\n",
       "      <td>17.7391</td>\n",
       "      <td>17.9262</td>\n",
       "      <td>17.6089</td>\n",
       "      <td>17.5802</td>\n",
       "      <td>17.6529</td>\n",
       "      <td>17.7841</td>\n",
       "      <td>17.3077</td>\n",
       "      <td>10.7589</td>\n",
       "      <td>17.3895</td>\n",
       "    </tr>\n",
       "  </tbody>\n",
       "</table>\n",
       "<p>5 rows × 31 columns</p>\n",
       "</div>"
      ],
      "text/plain": [
       "         mz       time    mz.min    mz.max  p_0hr_01_1  p_0hr_01_3  \\\n",
       "0  85.02783   59.68820  85.02783  85.02783     15.5810     16.0425   \n",
       "1  85.04717  124.75120  85.04709  85.04739     14.4754     14.2709   \n",
       "2  85.06532   68.66651  85.06517  85.06547     14.4223     15.0515   \n",
       "3  85.10073   16.48022  85.10050  85.10078     14.5249     13.2573   \n",
       "4  86.05951   67.78485  86.05949  86.05980     10.6674     17.4235   \n",
       "\n",
       "   p_0hr_01_5  p_0hr_02_1  p_0hr_02_3  p_0hr_02_5  ...  mock_6hr_03_5  \\\n",
       "0     15.3953     15.4143     15.7364     15.5532  ...        17.5140   \n",
       "1     14.3696     14.7142     14.8291     14.9959  ...        16.6485   \n",
       "2     15.1241     13.5224     16.7480     14.4095  ...         9.7859   \n",
       "3     13.5206     12.9044     11.4185     12.9223  ...        13.3513   \n",
       "4     17.4510     17.0197     17.0402     16.9958  ...        18.5019   \n",
       "\n",
       "   yf_6hr_01_1  yf_6hr_01_3  yf_6hr_01_5  yf_6hr_02_1  yf_6hr_02_3  \\\n",
       "0      17.1734      16.9813      16.6582      16.8376      16.8148   \n",
       "1      16.6961      16.3596      17.0661      15.2321      15.1615   \n",
       "2      14.0113      15.8681      13.3699       9.9658      15.5703   \n",
       "3      13.2977      13.1140      12.5569      12.9582      12.9960   \n",
       "4      17.7391      17.9262      17.6089      17.5802      17.6529   \n",
       "\n",
       "   yf_6hr_02_5  yf_6hr_03_1  yf_6hr_03_3  yf_6hr_03_5  \n",
       "0      17.2885      16.5967      16.4734      16.6048  \n",
       "1      16.5655      16.4316      16.1668      16.2193  \n",
       "2      16.5537      11.9470      10.3181      10.1656  \n",
       "3      13.0290      12.4184      13.0218      13.4085  \n",
       "4      17.7841      17.3077      10.7589      17.3895  \n",
       "\n",
       "[5 rows x 31 columns]"
      ]
     },
     "execution_count": 2,
     "metadata": {},
     "output_type": "execute_result"
    }
   ],
   "source": [
    "# Get data and have a look\n",
    "data = pd.read_csv(os.path.join(INDIR + datafile), sep=\"\\t\")\n",
    "print(data.shape)\n",
    "data.head()"
   ]
  },
  {
   "cell_type": "code",
   "execution_count": 3,
   "metadata": {},
   "outputs": [
    {
     "data": {
      "text/html": [
       "<div>\n",
       "<style scoped>\n",
       "    .dataframe tbody tr th:only-of-type {\n",
       "        vertical-align: middle;\n",
       "    }\n",
       "\n",
       "    .dataframe tbody tr th {\n",
       "        vertical-align: top;\n",
       "    }\n",
       "\n",
       "    .dataframe thead th {\n",
       "        text-align: right;\n",
       "    }\n",
       "</style>\n",
       "<table border=\"1\" class=\"dataframe\">\n",
       "  <thead>\n",
       "    <tr style=\"text-align: right;\">\n",
       "      <th></th>\n",
       "      <th>mz</th>\n",
       "      <th>time</th>\n",
       "      <th>mz.min</th>\n",
       "      <th>mz.max</th>\n",
       "      <th>p_0hr_01_1</th>\n",
       "      <th>p_0hr_01_3</th>\n",
       "      <th>p_0hr_01_5</th>\n",
       "      <th>p_0hr_02_1</th>\n",
       "      <th>p_0hr_02_3</th>\n",
       "      <th>p_0hr_02_5</th>\n",
       "      <th>...</th>\n",
       "      <th>mock_6hr_03_5</th>\n",
       "      <th>yf_6hr_01_1</th>\n",
       "      <th>yf_6hr_01_3</th>\n",
       "      <th>yf_6hr_01_5</th>\n",
       "      <th>yf_6hr_02_1</th>\n",
       "      <th>yf_6hr_02_3</th>\n",
       "      <th>yf_6hr_02_5</th>\n",
       "      <th>yf_6hr_03_1</th>\n",
       "      <th>yf_6hr_03_3</th>\n",
       "      <th>yf_6hr_03_5</th>\n",
       "    </tr>\n",
       "  </thead>\n",
       "  <tbody>\n",
       "    <tr>\n",
       "      <th>count</th>\n",
       "      <td>7995.000000</td>\n",
       "      <td>7995.000000</td>\n",
       "      <td>7995.000000</td>\n",
       "      <td>7995.000000</td>\n",
       "      <td>7995.000000</td>\n",
       "      <td>7995.000000</td>\n",
       "      <td>7995.000000</td>\n",
       "      <td>7995.000000</td>\n",
       "      <td>7995.000000</td>\n",
       "      <td>7995.000000</td>\n",
       "      <td>...</td>\n",
       "      <td>7995.000000</td>\n",
       "      <td>7995.000000</td>\n",
       "      <td>7995.000000</td>\n",
       "      <td>7995.000000</td>\n",
       "      <td>7995.000000</td>\n",
       "      <td>7995.000000</td>\n",
       "      <td>7995.000000</td>\n",
       "      <td>7995.000000</td>\n",
       "      <td>7995.000000</td>\n",
       "      <td>7995.000000</td>\n",
       "    </tr>\n",
       "    <tr>\n",
       "      <th>mean</th>\n",
       "      <td>479.377606</td>\n",
       "      <td>165.949377</td>\n",
       "      <td>479.327571</td>\n",
       "      <td>479.427072</td>\n",
       "      <td>16.091406</td>\n",
       "      <td>16.144007</td>\n",
       "      <td>16.290922</td>\n",
       "      <td>16.295431</td>\n",
       "      <td>16.315426</td>\n",
       "      <td>16.322353</td>\n",
       "      <td>...</td>\n",
       "      <td>15.128743</td>\n",
       "      <td>15.094845</td>\n",
       "      <td>15.092034</td>\n",
       "      <td>15.099189</td>\n",
       "      <td>15.051516</td>\n",
       "      <td>15.031724</td>\n",
       "      <td>14.994553</td>\n",
       "      <td>14.868401</td>\n",
       "      <td>14.881003</td>\n",
       "      <td>14.868518</td>\n",
       "    </tr>\n",
       "    <tr>\n",
       "      <th>std</th>\n",
       "      <td>342.073061</td>\n",
       "      <td>176.799281</td>\n",
       "      <td>341.976838</td>\n",
       "      <td>342.167864</td>\n",
       "      <td>3.346315</td>\n",
       "      <td>3.014123</td>\n",
       "      <td>3.175106</td>\n",
       "      <td>3.097821</td>\n",
       "      <td>3.074942</td>\n",
       "      <td>3.036882</td>\n",
       "      <td>...</td>\n",
       "      <td>2.562970</td>\n",
       "      <td>2.598563</td>\n",
       "      <td>2.576173</td>\n",
       "      <td>2.579771</td>\n",
       "      <td>2.559279</td>\n",
       "      <td>2.564990</td>\n",
       "      <td>2.550496</td>\n",
       "      <td>2.546401</td>\n",
       "      <td>2.556360</td>\n",
       "      <td>2.558357</td>\n",
       "    </tr>\n",
       "    <tr>\n",
       "      <th>min</th>\n",
       "      <td>85.027830</td>\n",
       "      <td>7.669881</td>\n",
       "      <td>85.027830</td>\n",
       "      <td>85.027830</td>\n",
       "      <td>5.669500</td>\n",
       "      <td>6.686300</td>\n",
       "      <td>6.566200</td>\n",
       "      <td>5.196100</td>\n",
       "      <td>4.872700</td>\n",
       "      <td>6.010300</td>\n",
       "      <td>...</td>\n",
       "      <td>3.512400</td>\n",
       "      <td>3.712000</td>\n",
       "      <td>4.234400</td>\n",
       "      <td>3.804400</td>\n",
       "      <td>4.215300</td>\n",
       "      <td>3.854300</td>\n",
       "      <td>4.157900</td>\n",
       "      <td>4.361500</td>\n",
       "      <td>4.420400</td>\n",
       "      <td>2.779400</td>\n",
       "    </tr>\n",
       "    <tr>\n",
       "      <th>25%</th>\n",
       "      <td>188.985900</td>\n",
       "      <td>39.727415</td>\n",
       "      <td>188.985600</td>\n",
       "      <td>188.985950</td>\n",
       "      <td>13.991700</td>\n",
       "      <td>14.440850</td>\n",
       "      <td>14.322450</td>\n",
       "      <td>14.392750</td>\n",
       "      <td>14.341000</td>\n",
       "      <td>14.432600</td>\n",
       "      <td>...</td>\n",
       "      <td>13.714200</td>\n",
       "      <td>13.758000</td>\n",
       "      <td>13.748500</td>\n",
       "      <td>13.756350</td>\n",
       "      <td>13.765550</td>\n",
       "      <td>13.700750</td>\n",
       "      <td>13.748200</td>\n",
       "      <td>13.522450</td>\n",
       "      <td>13.555600</td>\n",
       "      <td>13.505700</td>\n",
       "    </tr>\n",
       "    <tr>\n",
       "      <th>50%</th>\n",
       "      <td>355.007800</td>\n",
       "      <td>65.112550</td>\n",
       "      <td>355.006600</td>\n",
       "      <td>355.007800</td>\n",
       "      <td>16.262200</td>\n",
       "      <td>16.319800</td>\n",
       "      <td>16.402300</td>\n",
       "      <td>16.310300</td>\n",
       "      <td>16.323600</td>\n",
       "      <td>16.331700</td>\n",
       "      <td>...</td>\n",
       "      <td>15.031400</td>\n",
       "      <td>15.012800</td>\n",
       "      <td>14.985800</td>\n",
       "      <td>15.023900</td>\n",
       "      <td>14.956500</td>\n",
       "      <td>14.956500</td>\n",
       "      <td>14.947000</td>\n",
       "      <td>14.801200</td>\n",
       "      <td>14.791400</td>\n",
       "      <td>14.813600</td>\n",
       "    </tr>\n",
       "    <tr>\n",
       "      <th>75%</th>\n",
       "      <td>744.717600</td>\n",
       "      <td>266.096100</td>\n",
       "      <td>744.692550</td>\n",
       "      <td>744.742500</td>\n",
       "      <td>18.549300</td>\n",
       "      <td>18.202250</td>\n",
       "      <td>18.568100</td>\n",
       "      <td>18.398400</td>\n",
       "      <td>18.433750</td>\n",
       "      <td>18.393900</td>\n",
       "      <td>...</td>\n",
       "      <td>16.636400</td>\n",
       "      <td>16.607300</td>\n",
       "      <td>16.594900</td>\n",
       "      <td>16.596100</td>\n",
       "      <td>16.557150</td>\n",
       "      <td>16.529100</td>\n",
       "      <td>16.447400</td>\n",
       "      <td>16.368850</td>\n",
       "      <td>16.394550</td>\n",
       "      <td>16.379800</td>\n",
       "    </tr>\n",
       "    <tr>\n",
       "      <th>max</th>\n",
       "      <td>1956.091000</td>\n",
       "      <td>581.636600</td>\n",
       "      <td>1956.005000</td>\n",
       "      <td>1956.201000</td>\n",
       "      <td>27.773700</td>\n",
       "      <td>27.874300</td>\n",
       "      <td>27.763600</td>\n",
       "      <td>27.549800</td>\n",
       "      <td>27.539900</td>\n",
       "      <td>27.600900</td>\n",
       "      <td>...</td>\n",
       "      <td>28.224400</td>\n",
       "      <td>25.859900</td>\n",
       "      <td>25.879600</td>\n",
       "      <td>25.871000</td>\n",
       "      <td>25.851200</td>\n",
       "      <td>25.828200</td>\n",
       "      <td>25.827900</td>\n",
       "      <td>25.649600</td>\n",
       "      <td>26.596200</td>\n",
       "      <td>26.576900</td>\n",
       "    </tr>\n",
       "  </tbody>\n",
       "</table>\n",
       "<p>8 rows × 31 columns</p>\n",
       "</div>"
      ],
      "text/plain": [
       "                mz         time       mz.min       mz.max   p_0hr_01_1  \\\n",
       "count  7995.000000  7995.000000  7995.000000  7995.000000  7995.000000   \n",
       "mean    479.377606   165.949377   479.327571   479.427072    16.091406   \n",
       "std     342.073061   176.799281   341.976838   342.167864     3.346315   \n",
       "min      85.027830     7.669881    85.027830    85.027830     5.669500   \n",
       "25%     188.985900    39.727415   188.985600   188.985950    13.991700   \n",
       "50%     355.007800    65.112550   355.006600   355.007800    16.262200   \n",
       "75%     744.717600   266.096100   744.692550   744.742500    18.549300   \n",
       "max    1956.091000   581.636600  1956.005000  1956.201000    27.773700   \n",
       "\n",
       "        p_0hr_01_3   p_0hr_01_5   p_0hr_02_1   p_0hr_02_3   p_0hr_02_5  ...  \\\n",
       "count  7995.000000  7995.000000  7995.000000  7995.000000  7995.000000  ...   \n",
       "mean     16.144007    16.290922    16.295431    16.315426    16.322353  ...   \n",
       "std       3.014123     3.175106     3.097821     3.074942     3.036882  ...   \n",
       "min       6.686300     6.566200     5.196100     4.872700     6.010300  ...   \n",
       "25%      14.440850    14.322450    14.392750    14.341000    14.432600  ...   \n",
       "50%      16.319800    16.402300    16.310300    16.323600    16.331700  ...   \n",
       "75%      18.202250    18.568100    18.398400    18.433750    18.393900  ...   \n",
       "max      27.874300    27.763600    27.549800    27.539900    27.600900  ...   \n",
       "\n",
       "       mock_6hr_03_5  yf_6hr_01_1  yf_6hr_01_3  yf_6hr_01_5  yf_6hr_02_1  \\\n",
       "count    7995.000000  7995.000000  7995.000000  7995.000000  7995.000000   \n",
       "mean       15.128743    15.094845    15.092034    15.099189    15.051516   \n",
       "std         2.562970     2.598563     2.576173     2.579771     2.559279   \n",
       "min         3.512400     3.712000     4.234400     3.804400     4.215300   \n",
       "25%        13.714200    13.758000    13.748500    13.756350    13.765550   \n",
       "50%        15.031400    15.012800    14.985800    15.023900    14.956500   \n",
       "75%        16.636400    16.607300    16.594900    16.596100    16.557150   \n",
       "max        28.224400    25.859900    25.879600    25.871000    25.851200   \n",
       "\n",
       "       yf_6hr_02_3  yf_6hr_02_5  yf_6hr_03_1  yf_6hr_03_3  yf_6hr_03_5  \n",
       "count  7995.000000  7995.000000  7995.000000  7995.000000  7995.000000  \n",
       "mean     15.031724    14.994553    14.868401    14.881003    14.868518  \n",
       "std       2.564990     2.550496     2.546401     2.556360     2.558357  \n",
       "min       3.854300     4.157900     4.361500     4.420400     2.779400  \n",
       "25%      13.700750    13.748200    13.522450    13.555600    13.505700  \n",
       "50%      14.956500    14.947000    14.801200    14.791400    14.813600  \n",
       "75%      16.529100    16.447400    16.368850    16.394550    16.379800  \n",
       "max      25.828200    25.827900    25.649600    26.596200    26.576900  \n",
       "\n",
       "[8 rows x 31 columns]"
      ]
     },
     "execution_count": 3,
     "metadata": {},
     "output_type": "execute_result"
    }
   ],
   "source": [
    "# Quick look at the distribution\n",
    "data.describe()"
   ]
  },
  {
   "cell_type": "markdown",
   "metadata": {},
   "source": [
    "## Checking data distribution in samples\n",
    "\n",
    "The data table above has the first four columns as parameters from the mass spectrometry experiment, and the intensity values start on the fifth column. Each column, starting on the fifth, has a label as from biological samples. The intensity values are already after log2 transformation and imputation.\n",
    "\n",
    "We plot here the intensity distribution (histogram). The data after log transformation should approximate a normal distribution (this is why we do it). In the histogram below, there is a spike on the left, indicating many values close to 10. They were from imputation, i.e. missing values replaced by an arbitrary number, the common detection limit in the lab in this case.\n",
    "\n",
    "Also meaningful but not covered here is the plot of number of missing values vs number of samples."
   ]
  },
  {
   "cell_type": "code",
   "execution_count": 4,
   "metadata": {},
   "outputs": [
    {
     "data": {
      "text/plain": [
       "<matplotlib.axes._subplots.AxesSubplot at 0x7f8ea5fd3240>"
      ]
     },
     "execution_count": 4,
     "metadata": {},
     "output_type": "execute_result"
    },
    {
     "data": {
      "image/png": "[encoded data removed]",
      "text/plain": [
       "<Figure size 432x288 with 1 Axes>"
      ]
     },
     "metadata": {
      "needs_background": "light"
     },
     "output_type": "display_data"
    }
   ],
   "source": [
    "# Distribution of the intensity values in the first sample\n",
    "data.iloc[:, 4].hist(bins=20)"
   ]
  },
  {
   "cell_type": "markdown",
   "metadata": {},
   "source": [
    "## Quality control \n",
    "\n",
    "Bad data can be from bad samples, or malfunction of an instrument. \n",
    "We check data quality here by\n",
    "* average ion intensity in each sample (same for toal intensity)\n",
    "* correlation coefficient between technical replicates"
   ]
  },
  {
   "cell_type": "code",
   "execution_count": 5,
   "metadata": {},
   "outputs": [
    {
     "data": {
      "image/png": "[encoded data removed]",
      "text/plain": [
       "<Figure size 1080x216 with 1 Axes>"
      ]
     },
     "metadata": {
      "needs_background": "light"
     },
     "output_type": "display_data"
    }
   ],
   "source": [
    "new_header = [x for x in data]\n",
    "\n",
    "# if needed to transform to log2, shift positive 1 to avoid log2(0)\n",
    "# new_data = np.log2(mydata[ new_header[4:] ] + 1)\n",
    "\n",
    "new_data = data[new_header[4:]]\n",
    "\n",
    "mean_TIC = new_data.mean(0)\n",
    "# plot bars for first N columns, useful if large number of samples\n",
    "N = 27\n",
    "ind = np.arange(N)\n",
    "plt.figure(figsize=(15,3))\n",
    "plt.bar(ind, mean_TIC[:N], width=0.7, color=\"purple\", alpha=0.4)\n",
    "plt.ylabel(\"Average log2 (intensity)\")\n",
    "plt.title(\"Ave log2 Intensity, up to %d samples\" %N)\n",
    "plt.xticks(ind, new_data.columns[:N], rotation=-90)\n",
    "plt.show()\n",
    "\n",
    "# one should be alarmed if irregularity is spotted. Replicate of low intensity may be subject of removal.\n",
    "# Alternatively, pandas dataframe has built-in plotting too (also via matplotlib)"
   ]
  },
  {
   "cell_type": "code",
   "execution_count": 6,
   "metadata": {},
   "outputs": [
    {
     "data": {
      "image/png": "[encoded data removed]",
      "text/plain": [
       "<Figure size 432x432 with 2 Axes>"
      ]
     },
     "metadata": {
      "needs_background": "light"
     },
     "output_type": "display_data"
    }
   ],
   "source": [
    "# Full heatmap of correlation coefficients\n",
    "# default is Pearson correlation\n",
    "full_corr = new_data.corr()\n",
    "f, ax = plt.subplots(figsize=(6,6))\n",
    "cmap = sns.diverging_palette(220, 10, as_cmap=True)\n",
    "sns.heatmap(full_corr, cmap=cmap, square=True, vmax=1, vmin=0,\n",
    "            linewidths=.5, cbar_kws={\"shrink\": .5}, ax=ax)\n",
    "plt.show()\n",
    "\n",
    "# Expecting high corr btw sample pairs"
   ]
  },
  {
   "cell_type": "markdown",
   "metadata": {},
   "source": [
    "***From the quality control plots above, we conclude that each sample was measured with reasonable data.***\n",
    "\n",
    "The intensity of the first two biologial samples (six replicates) is higher than others. These samples also form their own cluster in the correlation heatmap. We will discard these samples in our later analysis, focusing on the mock and yf samples only. But in general, the data needs to be normalized when the average (or total) signal intensity differs between samples.\n",
    "\n",
    "### Plotting spike-in chemicals or landmark metabolites is also good QC\n",
    "\n",
    "We use the example of phenylalanine here, which is consistently seen in human plasma using positive ESI on LC-MS. "
   ]
  },
  {
   "cell_type": "code",
   "execution_count": 7,
   "metadata": {
    "scrolled": true
   },
   "outputs": [
    {
     "name": "stdout",
     "output_type": "stream",
     "text": [
      "6462 [166.0853   55.88952 166.0852  166.0853   21.1867   20.9769   21.1796\n",
      "  21.2868   22.7748   21.0402   22.4603   22.6261   22.4554   22.5407\n",
      "  25.5013   23.234    22.6853   22.4184   22.7293   22.8745   23.0226\n",
      "  25.1804   23.3842   23.5502   23.315    25.7823   23.6139   23.52\n",
      "  23.3902   24.42     23.4337 ]\n"
     ]
    }
   ],
   "source": [
    "# look for phenylalanine, 165.079 + H\n",
    "for ii in range(data.shape[0]):\n",
    "    line = data.values[ii, :40]\n",
    "    if abs(line[0]-(165.079 + 1.0073)) < 0.002: # this is about 10 ppm\n",
    "        print (ii, line)"
   ]
  },
  {
   "cell_type": "code",
   "execution_count": 8,
   "metadata": {},
   "outputs": [
    {
     "data": {
      "image/png": "[encoded data removed]",
      "text/plain": [
       "<Figure size 1080x216 with 1 Axes>"
      ]
     },
     "metadata": {
      "needs_background": "light"
     },
     "output_type": "display_data"
    }
   ],
   "source": [
    "# plot line 6462 , matched to phenylalanine, 165.079 + H\n",
    "N = 27\n",
    "ind = np.arange(N)\n",
    "plt.figure(figsize=(15,3))\n",
    "plt.bar(ind, new_data.iloc[6462, :], width=0.7, color=\"blue\", alpha=0.8)\n",
    "plt.ylabel(\"log2(intensity)\")\n",
    "plt.title(\"phenylalanine 166.0853@55\")\n",
    "plt.xticks(ind, new_data.columns[:N], rotation=-90)\n",
    "plt.show()"
   ]
  },
  {
   "cell_type": "markdown",
   "metadata": {},
   "source": [
    "## Averaging technical replicates\n",
    "\n",
    "If bad replicate or sample was spotted above, they should be removed from furhter processing.\n",
    "\n",
    "We then take the average value of technical (injection) replicates, and use that as the value for one biological sample. \n",
    "\n",
    "For simplicity, this is not included in this notebook, but given in another notebook:\n",
    "http://mummichog.org/notebooks/Averaging_technical_replicates.html\n",
    "\n",
    "## We are switching to another data table from now on for all the code below"
   ]
  },
  {
   "cell_type": "code",
   "execution_count": 9,
   "metadata": {},
   "outputs": [
    {
     "name": "stdout",
     "output_type": "stream",
     "text": [
      "(7995, 11)\n"
     ]
    },
    {
     "data": {
      "text/html": [
       "<div>\n",
       "<style scoped>\n",
       "    .dataframe tbody tr th:only-of-type {\n",
       "        vertical-align: middle;\n",
       "    }\n",
       "\n",
       "    .dataframe tbody tr th {\n",
       "        vertical-align: top;\n",
       "    }\n",
       "\n",
       "    .dataframe thead th {\n",
       "        text-align: right;\n",
       "    }\n",
       "</style>\n",
       "<table border=\"1\" class=\"dataframe\">\n",
       "  <thead>\n",
       "    <tr style=\"text-align: right;\">\n",
       "      <th></th>\n",
       "      <th>mz</th>\n",
       "      <th>retention_time</th>\n",
       "      <th>mock_6hr_01</th>\n",
       "      <th>mock_6hr_02</th>\n",
       "      <th>mock_6hr_03</th>\n",
       "      <th>p_0hr_01</th>\n",
       "      <th>p_0hr_02</th>\n",
       "      <th>p_0hr_03</th>\n",
       "      <th>yf_6hr_01</th>\n",
       "      <th>yf_6hr_02</th>\n",
       "      <th>yf_6hr_03</th>\n",
       "    </tr>\n",
       "  </thead>\n",
       "  <tbody>\n",
       "    <tr>\n",
       "      <th>0</th>\n",
       "      <td>85.02783</td>\n",
       "      <td>59</td>\n",
       "      <td>17.23</td>\n",
       "      <td>17.18</td>\n",
       "      <td>17.44</td>\n",
       "      <td>15.67</td>\n",
       "      <td>15.57</td>\n",
       "      <td>17.26</td>\n",
       "      <td>16.94</td>\n",
       "      <td>16.98</td>\n",
       "      <td>16.56</td>\n",
       "    </tr>\n",
       "    <tr>\n",
       "      <th>1</th>\n",
       "      <td>85.04717</td>\n",
       "      <td>124</td>\n",
       "      <td>16.53</td>\n",
       "      <td>15.80</td>\n",
       "      <td>16.62</td>\n",
       "      <td>14.37</td>\n",
       "      <td>14.85</td>\n",
       "      <td>15.63</td>\n",
       "      <td>16.71</td>\n",
       "      <td>15.65</td>\n",
       "      <td>16.27</td>\n",
       "    </tr>\n",
       "    <tr>\n",
       "      <th>2</th>\n",
       "      <td>85.06532</td>\n",
       "      <td>68</td>\n",
       "      <td>10.80</td>\n",
       "      <td>10.61</td>\n",
       "      <td>11.36</td>\n",
       "      <td>14.87</td>\n",
       "      <td>14.89</td>\n",
       "      <td>12.53</td>\n",
       "      <td>14.42</td>\n",
       "      <td>14.03</td>\n",
       "      <td>10.81</td>\n",
       "    </tr>\n",
       "    <tr>\n",
       "      <th>3</th>\n",
       "      <td>85.10073</td>\n",
       "      <td>16</td>\n",
       "      <td>13.32</td>\n",
       "      <td>13.16</td>\n",
       "      <td>13.42</td>\n",
       "      <td>13.77</td>\n",
       "      <td>12.42</td>\n",
       "      <td>13.31</td>\n",
       "      <td>12.99</td>\n",
       "      <td>12.99</td>\n",
       "      <td>12.95</td>\n",
       "    </tr>\n",
       "    <tr>\n",
       "      <th>4</th>\n",
       "      <td>86.05951</td>\n",
       "      <td>67</td>\n",
       "      <td>18.42</td>\n",
       "      <td>18.15</td>\n",
       "      <td>18.37</td>\n",
       "      <td>15.18</td>\n",
       "      <td>17.02</td>\n",
       "      <td>17.91</td>\n",
       "      <td>17.76</td>\n",
       "      <td>17.67</td>\n",
       "      <td>15.15</td>\n",
       "    </tr>\n",
       "  </tbody>\n",
       "</table>\n",
       "</div>"
      ],
      "text/plain": [
       "         mz  retention_time  mock_6hr_01  mock_6hr_02  mock_6hr_03  p_0hr_01  \\\n",
       "0  85.02783              59        17.23        17.18        17.44     15.67   \n",
       "1  85.04717             124        16.53        15.80        16.62     14.37   \n",
       "2  85.06532              68        10.80        10.61        11.36     14.87   \n",
       "3  85.10073              16        13.32        13.16        13.42     13.77   \n",
       "4  86.05951              67        18.42        18.15        18.37     15.18   \n",
       "\n",
       "   p_0hr_02  p_0hr_03  yf_6hr_01  yf_6hr_02  yf_6hr_03  \n",
       "0     15.57     17.26      16.94      16.98      16.56  \n",
       "1     14.85     15.63      16.71      15.65      16.27  \n",
       "2     14.89     12.53      14.42      14.03      10.81  \n",
       "3     12.42     13.31      12.99      12.99      12.95  \n",
       "4     17.02     17.91      17.76      17.67      15.15  "
      ]
     },
     "execution_count": 9,
     "metadata": {},
     "output_type": "execute_result"
    }
   ],
   "source": [
    "avedata = pd.read_csv(os.path.join(INDIR + datafile_ave), sep=\"\\t\")\n",
    "print(avedata.shape)\n",
    "avedata.head()"
   ]
  },
  {
   "cell_type": "markdown",
   "metadata": {},
   "source": [
    "## Normalization\n",
    "\n",
    "\n",
    "Normalization is to correct sample variations caused by technical factors, e.g. one sample started with more input materials in the measurement and causing higher values of most features.\n",
    "\n",
    "There are methods popular in the field of transcriptomics, e.g. LOESS and quartile normalization, which can be used on metabolomics. However, when the data table contains many missing values, these normalization methods can be problematic. In general, if imputation (filling missing values) is needed, it should be done prior to normalization.\n",
    "\n",
    "To safeguard against missing values in metabolomics, a simple approach is to scale each sample to the same mean intensity using only the most abundant features (e.g. 500 or 1000)."
   ]
  },
  {
   "cell_type": "code",
   "execution_count": 10,
   "metadata": {},
   "outputs": [
    {
     "name": "stdout",
     "output_type": "stream",
     "text": [
      "7995\n",
      "(1000, 9)\n",
      "[19.6097  18.71411 19.23487 20.06854 20.34723 18.85944 19.21792 19.02573\n",
      " 18.81548]\n"
     ]
    },
    {
     "data": {
      "image/png": "[encoded data removed]",
      "text/plain": [
       "<Figure size 432x216 with 1 Axes>"
      ]
     },
     "metadata": {
      "needs_background": "light"
     },
     "output_type": "display_data"
    }
   ],
   "source": [
    "# plot the mean intensity of top 1000 features\n",
    "m1 = list(avedata.iloc[:, 2:].mean(1))\n",
    "print(len(m1))\n",
    "new = []\n",
    "for ii in range(len(m1)):\n",
    "    new.append((m1[ii], list(avedata.iloc[ii,2:])))\n",
    "\n",
    "new.sort(reverse=True)\n",
    "new = np.array([x[1] for x in new[:1000]])\n",
    "print(new.shape)\n",
    "mean_TIC = new.mean(0)\n",
    "print(mean_TIC)\n",
    "\n",
    "N = 9\n",
    "ind = np.arange(N)\n",
    "plt.figure(figsize=(6,3))\n",
    "plt.bar(ind, mean_TIC, width=0.7, color=\"purple\", alpha=0.8)\n",
    "plt.ylabel(\"Average log2(intensity)\")\n",
    "plt.title(\"Ave log2(intensity)\")\n",
    "plt.xticks(ind, avedata.columns[2:], rotation=-90)\n",
    "plt.show()"
   ]
  },
  {
   "cell_type": "code",
   "execution_count": 11,
   "metadata": {},
   "outputs": [
    {
     "name": "stdout",
     "output_type": "stream",
     "text": [
      "[1, 1, 1.0, 1.0478564035372255, 1.0194870045911406, 0.9771363537158178, 0.9637528056644571, 1.0397816690209243, 1.020386181230852, 1.0306936974297438, 1.0422109879737318]\n",
      "(7995, 11)\n",
      "mz                479.377606\n",
      "retention_time    165.454034\n",
      "mock_6hr_01        15.320818\n",
      "mock_6hr_02        15.382946\n",
      "mock_6hr_03        15.401406\n",
      "p_0hr_01           15.805698\n",
      "p_0hr_02           15.719941\n",
      "p_0hr_03           15.506202\n",
      "yf_6hr_01          15.403186\n",
      "yf_6hr_02          15.487233\n",
      "yf_6hr_03          15.500531\n",
      "dtype: float64\n"
     ]
    }
   ],
   "source": [
    "# scale avedata by the mean of top 1000 features\n",
    "scaling = [1, 1] + [mean_TIC[0]/x for x in mean_TIC]\n",
    "print(scaling)\n",
    "\n",
    "new_data = pd.DataFrame({})\n",
    "#e.g. column 3 is avedata[\"mock_6hr_01\"], first two columns are m/z and rtime\n",
    "for ii in range(11):\n",
    "    c = avedata.columns[ii]\n",
    "    new_data[c] = avedata[c]*scaling[ii]\n",
    "\n",
    "print(new_data.shape)\n",
    "print(new_data.mean(0))\n",
    "# the mean values are not expected to be the same but similar, because \n",
    "# we normalized the full list of 7995 features \n",
    "# using the scaling factor computed on the top 1000 features"
   ]
  },
  {
   "cell_type": "markdown",
   "metadata": {},
   "source": [
    "## Group comparison using student's t-test\n",
    "\n",
    "We will do a student's t-test between mock samples and YF samples.\n",
    "Note that t-test assumes normal distribution of data, and our data are close to normal distribution by visual inspection at the beginning of this notebook. One can also test for the distribution.\n",
    "\n",
    "If the distribution of data is not normal or not known, nonparametric methods (e.g. Wilcoxon rank sum test) can be used for group comparison. "
   ]
  },
  {
   "cell_type": "code",
   "execution_count": 12,
   "metadata": {},
   "outputs": [
    {
     "name": "stdout",
     "output_type": "stream",
     "text": [
      "t-test finished\n"
     ]
    }
   ],
   "source": [
    "# in new_data, col 2:5 are mock, 8:11 are yf\n",
    "number_features = new_data.shape[0]\n",
    "\n",
    "t_scores, p_values, fc, fdrs = [], [], [], []\n",
    "for ii in range(number_features):\n",
    "    t,p = stats.ttest_ind(new_data.values[ii, 8:11], new_data.values[ii, 2:5])\n",
    "    # nan may be returned\n",
    "    if np.isnan(t):\n",
    "        t,p = 0,1\n",
    "    t_scores.append(t)\n",
    "    p_values.append(p)\n",
    "    # fold change, to used in volcano plot\n",
    "    fc.append((new_data.values[ii, 8:11] - new_data.values[ii, 2:5]).mean())\n",
    "        \n",
    "print(\"t-test finished\")"
   ]
  },
  {
   "cell_type": "code",
   "execution_count": 13,
   "metadata": {},
   "outputs": [
    {
     "data": {
      "image/png": "[encoded data removed]",
      "text/plain": [
       "<Figure size 432x432 with 1 Axes>"
      ]
     },
     "metadata": {
      "needs_background": "light"
     },
     "output_type": "display_data"
    }
   ],
   "source": [
    "# Volcano plot to show the t-test result\n",
    "plt.figure(figsize=(6,6))\n",
    "plt.plot(fc, [-np.log10(ii) for ii in p_values], 'b.')\n",
    "plt.xlabel(\"log2 fold change\")\n",
    "plt.ylabel(\"-log10(p_value)\")\n",
    "plt.title(\"Volcano plot\")\n",
    "plt.show()"
   ]
  },
  {
   "cell_type": "code",
   "execution_count": 14,
   "metadata": {},
   "outputs": [],
   "source": [
    "# Compute FDR using Benjamini-Hochberg procedure\n",
    "fdrs = multipletests(p_values, method = 'fdr_bh')[1]\n",
    "\n",
    "#sort output, with full table\n",
    "new = []\n",
    "for ii in range(number_features):\n",
    "    new.append([p_values[ii], fdrs[ii], t_scores[ii], 'row_'+str(ii+1)] + \n",
    "               list(new_data.values[ii, :]))\n",
    "\n",
    "# it's always a good idea to assign a unique identifer for each feature as the first thing\n",
    "# we add row number in the output, but it's better to use that from the start\n",
    "\n",
    "new.sort()\n",
    "\n",
    "# output full table\n",
    "s = 'p-value\\tFDR_BH\\tt-score\\trow_number\\t' + '\\t'.join(new_data.columns) + '\\n'\n",
    "for L in new:\n",
    "    s += '\\t'.join([str(x) for x in L]) + '\\n'\n",
    "    \n",
    "with open('ttest_'+datafile_ave, 'w') as O:\n",
    "    O.write(s)\n",
    "    "
   ]
  },
  {
   "cell_type": "code",
   "execution_count": 15,
   "metadata": {},
   "outputs": [
    {
     "name": "stdout",
     "output_type": "stream",
     "text": [
      "['mz', 'retention_time', 'mock_6hr_01', 'mock_6hr_02', 'mock_6hr_03', 'p_0hr_01', 'p_0hr_02', 'p_0hr_03', 'yf_6hr_01', 'yf_6hr_02', 'yf_6hr_03']\n"
     ]
    }
   ],
   "source": [
    "# output row FDR < 0.05\n",
    "fdr05_file = 'FDR.05' + datafile_ave\n",
    "fdr05_list = [L for L in new if L[1]<0.05]\n",
    "header = list(new_data.columns)\n",
    "print(header)\n",
    "s = 'p-value\\tFDR_BH\\tf-score\\trow_number\\t' + '\\t'.join(header[:5] + header[8:]) + '\\n'\n",
    "for L in fdr05_list:\n",
    "    # leaving out p_0hr samples\n",
    "    s += '\\t'.join([str(x) for x in L[:9] + L[12:]]) + '\\n'\n",
    "    \n",
    "with open(fdr05_file, 'w') as O:\n",
    "    O.write(s)\n",
    "    "
   ]
  },
  {
   "cell_type": "markdown",
   "metadata": {},
   "source": [
    "## Visualize the significant features using heatmap and boxplot"
   ]
  },
  {
   "cell_type": "code",
   "execution_count": 16,
   "metadata": {},
   "outputs": [
    {
     "data": {
      "image/png": "[encoded data removed]",
      "text/plain": [
       "<Figure size 720x720 with 4 Axes>"
      ]
     },
     "metadata": {
      "needs_background": "light"
     },
     "output_type": "display_data"
    }
   ],
   "source": [
    "# to plot heatmap of features with FDR < 0.05\n",
    "\n",
    "heatmap = pd.read_csv(fdr05_file, sep=\"\\t\")\n",
    "g = sns.clustermap(heatmap.iloc[:, 6:12], col_cluster=False, z_score=0, figsize=(10, 10))\n"
   ]
  },
  {
   "cell_type": "code",
   "execution_count": 17,
   "metadata": {},
   "outputs": [
    {
     "name": "stdout",
     "output_type": "stream",
     "text": [
      "mock_6hr_01       9.06\n",
      "mock_6hr_02    9.67171\n",
      "mock_6hr_03    10.0419\n",
      "yf_6hr_01      15.6221\n",
      "yf_6hr_02      15.6872\n",
      "yf_6hr_03      16.0292\n",
      "Name: 72, dtype: object\n"
     ]
    },
    {
     "data": {
      "text/plain": [
       "<matplotlib.axes._subplots.AxesSubplot at 0x7f8e7ae70518>"
      ]
     },
     "execution_count": 17,
     "metadata": {},
     "output_type": "execute_result"
    },
    {
     "data": {
      "image/png": "[encoded data removed]",
      "text/plain": [
       "<Figure size 216x360 with 1 Axes>"
      ]
     },
     "metadata": {
      "needs_background": "light"
     },
     "output_type": "display_data"
    }
   ],
   "source": [
    "# to plot a feature at row # 73\n",
    "box6 = heatmap.iloc[72, 6:12]\n",
    "\n",
    "print(heatmap.iloc[72, 6:12])\n",
    "# define groups\n",
    "mock, infected = box6[:3], box6[3:]\n",
    "\n",
    "# plotting\n",
    "fig = plt.figure(figsize=(3, 5))\n",
    "sns.boxplot(data=[mock, infected], width=0.6)"
   ]
  },
  {
   "cell_type": "markdown",
   "metadata": {},
   "source": [
    "## Summary\n",
    "\n",
    "This notebook was written to illustrate the several common scripting tasks.\n",
    "\n",
    "To get basic Python training, readers are referred to the 6-hour course of programming in Python on the website of Software Carpentry (https://software-carpentry.org/lessons/).\n",
    "\n",
    "The pandas library is the R equivalent in Python. Readers can read further on pandas (https://pandas.pydata.org/).  \n",
    "\n",
    "Please cite the book chapter if you find this notebook useful:\n",
    "[Place holder]."
   ]
  }
 ],
 "metadata": {
  "kernelspec": {
   "display_name": "Python 3",
   "language": "python",
   "name": "python3"
  },
  "language_info": {
   "codemirror_mode": {
    "name": "ipython",
    "version": 3
   },
   "file_extension": ".py",
   "mimetype": "text/x-python",
   "name": "python",
   "nbconvert_exporter": "python",
   "pygments_lexer": "ipython3",
   "version": "3.7.3"
  }
 },
 "nbformat": 4,
 "nbformat_minor": 2
}
